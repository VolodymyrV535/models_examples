{
 "cells": [
  {
   "cell_type": "markdown",
   "id": "fe12c203-e6a6-452c-a655-afb8a03a4ff5",
   "metadata": {},
   "source": [
    "# End of week 1 exercise\n",
    "\n",
    "To demonstrate your familiarity with OpenAI API, and also Ollama, build a tool that takes a technical question,  \n",
    "and responds with an explanation. This is a tool that you will be able to use yourself during the course!"
   ]
  },
  {
   "cell_type": "code",
   "execution_count": 9,
   "id": "c1070317-3ed9-4659-abe3-828943230e03",
   "metadata": {},
   "outputs": [],
   "source": [
    "# imports\n",
    "import os\n",
    "import requests\n",
    "import json\n",
    "from typing import List\n",
    "from dotenv import load_dotenv\n",
    "from bs4 import BeautifulSoup\n",
    "from openai import OpenAI\n",
    "from IPython.display import Markdown, display, update_display\n",
    "import ollama"
   ]
  },
  {
   "cell_type": "code",
   "execution_count": 10,
   "id": "4a456906-915a-4bfd-bb9d-57e505c5093f",
   "metadata": {},
   "outputs": [],
   "source": [
    "# constants\n",
    "MODEL_GPT = 'gpt-4o-mini'\n",
    "MODEL_LLAMA = 'llama3.2'\n",
    "HEADERS = {\n",
    " \"User-Agent\": \"Mozilla/5.0 (Windows NT 10.0; Win64; x64) AppleWebKit/537.36 (KHTML, like Gecko) Chrome/117.0.0.0 Safari/537.36\"\n",
    "}"
   ]
  },
  {
   "cell_type": "code",
   "execution_count": 15,
   "id": "a8d7923c-5f28-4c30-8556-342d7c8497c1",
   "metadata": {},
   "outputs": [],
   "source": [
    "# set up environment\n",
    "# Load environment variables in a file called .env\n",
    "load_dotenv(override=True)\n",
    "api_key = os.getenv('OPENAI_API_KEY')\n",
    "\n",
    "openai = OpenAI()"
   ]
  },
  {
   "cell_type": "code",
   "execution_count": 16,
   "id": "3f0d0137-52b0-47a8-81a8-11a90a010798",
   "metadata": {},
   "outputs": [],
   "source": [
    "# here is the question; type over this to ask something new\n",
    "\n",
    "question = \"\"\"\n",
    "Please explain what this code does and why:\n",
    "yield from {book.get(\"author\") for book in books if book.get(\"author\")}\n",
    "\"\"\""
   ]
  },
  {
   "cell_type": "code",
   "execution_count": 17,
   "id": "60ce7000-a4a5-4cce-a261-e75ef45063b4",
   "metadata": {},
   "outputs": [
    {
     "name": "stdout",
     "output_type": "stream",
     "text": [
      "This code is a generator expression that yields values from a set comprehension. Let's break it down step-by-step:\n",
      "\n",
      "1. **Context**: It's likely that `books` is a list (or some iterable) of dictionary objects, where each dictionary represents a book with various attributes, one of which is `\"author\"`.\n",
      "\n",
      "2. **Set Comprehension**: \n",
      "   - The expression `{book.get(\"author\") for book in books if book.get(\"author\")}` creates a set of authors from the `books` list. \n",
      "   - `book.get(\"author\")` retrieves the value associated with the key `\"author\"` from each `book` dictionary.\n",
      "   - The `if book.get(\"author\")` condition filters out any books that don't have an author specified (i.e., where the author value is `None`, an empty string, or does not exist). This ensures that only books with valid author names will be included in the set.\n",
      "\n",
      "3. **Yield from**: \n",
      "   - The `yield from` statement is used to yield all values from an iterable, in this case, the set of authors created by the set comprehension.\n",
      "   - This allows this generator function to produce authors one at a time when iterated over. \n",
      "\n",
      "4. **Why Use This Code**:\n",
      "   - **Unique Authors**: By using a set comprehension, the code ensures that only unique authors are yielded. If multiple books have the same author, they will appear only once in the output.\n",
      "   - **Lazy Evaluation**: The use of `yield` allows this function to be more memory efficient, as it doesn't build and return a whole list of authors at once, but rather provides each author one at a time as requested.\n",
      "\n",
      "### Example:\n",
      "Suppose you have the following list of books:\n",
      "\n",
      "python\n",
      "books = [\n",
      "    {\"title\": \"Book 1\", \"author\": \"Author A\"},\n",
      "    {\"title\": \"Book 2\", \"author\": \"Author B\"},\n",
      "    {\"title\": \"Book 3\"},  # No author\n",
      "    {\"title\": \"Book 4\", \"author\": \"Author A\"}  # Duplicate\n",
      "]\n",
      "```\n",
      "\n",
      "When the code runs:\n",
      "- It will produce a set `{\"Author A\", \"Author B\"}`.\n",
      "- Then, when this generator is iterated over, it will yield \"Author A\" and \"Author B\", but only once each, because they are unique entries in the set.\n",
      "\n",
      "### In summary:\n",
      "This code efficiently retrieves and yields unique author names from a collection of book dictionaries, ignoring any entries without an author."
     ]
    }
   ],
   "source": [
    "# Get gpt-4o-mini to answer, with streaming\n",
    "stream = openai.chat.completions.create(\n",
    "        model=MODEL_GPT,\n",
    "        messages=[\n",
    "            {\"role\": \"user\", \"content\": question}\n",
    "          ],\n",
    "        stream=True\n",
    "    )\n",
    "    \n",
    "response = \"\"\n",
    "      \n",
    "for chunk in stream:\n",
    "    response = chunk.choices[0].delta.content or ''\n",
    "    response = response.replace(\"```\",\"\").replace(\"markdown\", \"\")\n",
    "    print(response, end=\"\")"
   ]
  },
  {
   "cell_type": "code",
   "execution_count": 21,
   "id": "8f7c8ea8-4082-4ad0-8751-3301adcf6538",
   "metadata": {},
   "outputs": [
    {
     "name": "stdout",
     "output_type": "stream",
     "text": [
      "model='llama3.2' created_at='2025-03-26T13:32:01.2921942Z' done=True done_reason='stop' total_duration=65833885000 load_duration=14512004400 prompt_eval_count=52 prompt_eval_duration=10570676700 eval_count=335 eval_duration=40340629300 message=Message(role='assistant', content='This line of Python code is a part of a generator expression that uses the `yield from` keyword.\\n\\nLet\\'s break it down:\\n\\n- `yield from`: This keyword is used to delegate to other generators or iterators, allowing them to produce values. It\\'s like saying \"yield from these other generators\" instead of having to manually call each one individually.\\n\\n- `{... for book in books if book.get(\"author\")}`: This is a dictionary comprehension with an `if` condition that filters the books.\\n\\nHere\\'s what it does:\\n\\n1. It takes a list or iterable (`books`) and iterates over each item.\\n2. For each item, it checks if the \"author\" key exists in the dictionary using the `.get()` method (which returns `None` if the key is not present).\\n3. If the \"author\" key does exist for an item, its value is included in the comprehension.\\n\\nThe resulting generator produces a sequence of values where each value corresponds to an author whose book was found in the original list.\\n\\nHere\\'s a more verbose way to express this using `map()`:\\n\\n```python\\ndef get_authors(books):\\n    return map(lambda x: x.get(\"author\") for book in books if \"author\" in book)\\n\\nfor author in get_authors(books):\\n    print(author)\\n```\\n\\nHowever, the code you provided is a much more concise and efficient way to achieve the same result.\\n\\nThe use of `yield from` makes this generator expression particularly memory-efficient because it doesn\\'t require storing all the authors in memory at once. Instead, it yields one author\\'s value after another until all have been found.', images=None, tool_calls=None)\n"
     ]
    }
   ],
   "source": [
    "# Get Llama 3.2 to answer\n",
    "llama_response = ollama.chat(\n",
    "    model=MODEL_LLAMA, \n",
    "    messages=[\n",
    "        {\"role\": \"user\", \"content\": question}\n",
    "    ]\n",
    ")\n",
    "\n",
    "print(llama_response)"
   ]
  },
  {
   "cell_type": "code",
   "execution_count": null,
   "id": "fdb4dba5-af6e-475a-b9f8-d31b2e4262e2",
   "metadata": {},
   "outputs": [],
   "source": []
  }
 ],
 "metadata": {
  "kernelspec": {
   "display_name": "Python 3 (ipykernel)",
   "language": "python",
   "name": "python3"
  },
  "language_info": {
   "codemirror_mode": {
    "name": "ipython",
    "version": 3
   },
   "file_extension": ".py",
   "mimetype": "text/x-python",
   "name": "python",
   "nbconvert_exporter": "python",
   "pygments_lexer": "ipython3",
   "version": "3.11.11"
  }
 },
 "nbformat": 4,
 "nbformat_minor": 5
}
